{
 "cells": [
  {
   "cell_type": "code",
   "execution_count": 13,
   "metadata": {},
   "outputs": [],
   "source": [
    "from selenium import webdriver\n",
    "from selenium.webdriver.common.keys import Keys\n",
    "import pandas as pd"
   ]
  },
  {
   "cell_type": "code",
   "execution_count": 14,
   "metadata": {},
   "outputs": [],
   "source": [
    "from selenium.webdriver.support.ui import WebDriverWait\n",
    "from selenium.webdriver.support import expected_conditions as EC\n",
    "from selenium.webdriver.common.by import By\n",
    "from selenium.common.exceptions import NoSuchElementException"
   ]
  },
  {
   "cell_type": "code",
   "execution_count": 15,
   "metadata": {},
   "outputs": [],
   "source": [
    "driver = webdriver.Chrome('/Users/mac/Desktop/chromedriver')"
   ]
  },
  {
   "cell_type": "code",
   "execution_count": 16,
   "metadata": {},
   "outputs": [],
   "source": [
    "driver.get('https://gaishishukatsu.com/login')"
   ]
  },
  {
   "cell_type": "code",
   "execution_count": 6,
   "metadata": {},
   "outputs": [],
   "source": [
    "login = driver.find_element_by_xpath(\"//input[@type='email']\").send_keys('miaolin@moegi.waseda.jp')\n",
    "password = driver.find_element_by_xpath(\"//input[@type='password']\").send_keys('LIhui200808')"
   ]
  },
  {
   "cell_type": "code",
   "execution_count": 7,
   "metadata": {},
   "outputs": [],
   "source": [
    "submit = driver.find_element_by_xpath(\"//button[@type='submit']\").click()"
   ]
  },
  {
   "cell_type": "code",
   "execution_count": null,
   "metadata": {},
   "outputs": [],
   "source": []
  },
  {
   "cell_type": "code",
   "execution_count": 8,
   "metadata": {},
   "outputs": [],
   "source": [
    "delay = 2"
   ]
  },
  {
   "cell_type": "code",
   "execution_count": null,
   "metadata": {},
   "outputs": [],
   "source": []
  },
  {
   "cell_type": "code",
   "execution_count": 17,
   "metadata": {},
   "outputs": [],
   "source": [
    "cms = []\n",
    "while True:\n",
    "    #for i in range(len(tp_cms)):\n",
    "    #    cms.append(tp_cms[i].text)\n",
    "    try:\n",
    "        tp_url = driver.find_element_by_xpath(\"//a[@class='_btn _btn-lg _btn-gray _f16']\")\n",
    "        tp_url.click()\n",
    "        driver.implicitly_wait(delay)\n",
    "    except NoSuchElementException:\n",
    "        tp_cms = driver.find_elements_by_xpath(\"//p[@content='a.answer']\")\n",
    "        for i in range(len(tp_cms)):\n",
    "            cms.append(tp_cms[i].text)\n",
    "        driver.find_element_by_xpath(\"//a[@href='/questions']\").click()\n",
    "        driver.implicitly_wait(delay)\n",
    "        break"
   ]
  },
  {
   "cell_type": "code",
   "execution_count": 10,
   "metadata": {},
   "outputs": [],
   "source": [
    "# save data\n",
    "f = open(r\"/Users/mac/crawler/proxem/test2.csv\", 'w', encoding='utf8')\n",
    "f.write('ID,review\\n')\n",
    "for i in range(len(cms)):\n",
    "    cm = cms[i]\n",
    "    # remove \\n\n",
    "    new_cms = cm.split('\\n')\n",
    "    ncms2 = []\n",
    "    for line in new_cms:\n",
    "        if len(line)>0 and line[0] != '>':\n",
    "            ncms2.append(line)\n",
    "        elif len(line)>0 and line[0] == '>':\n",
    "            tp_ss = line.replace('>', ' ')\n",
    "            tp_ss = tp_ss.split(' ')\n",
    "            tp_s = ''\n",
    "            for s in tp_ss:\n",
    "                if s.isnumeric()==False:\n",
    "                    tp_s += s\n",
    "            if len(tp_s)>0:\n",
    "                ncms2.append(tp_s)\n",
    "            \n",
    "    newline = ''.join(ncms2)\n",
    "    sttr = str(i+1)+\",\"+newline+'\\n'\n",
    "    f.write(sttr)\n",
    "    \n",
    "f.close()"
   ]
  },
  {
   "cell_type": "code",
   "execution_count": null,
   "metadata": {},
   "outputs": [],
   "source": [
    "# save data without clever part\n",
    "f = open(r\"/Users/mac/crawler/proxem/test2.csv\", 'w', encoding='utf8')\n",
    "f.write('ID,review\\n')\n",
    "for i in range(len(cms)):\n",
    "    cm = cms[i]\n",
    "    sttr = str(i+1)+\",\"+cm+'\\n'\n",
    "    f.write(sttr)\n",
    "    \n",
    "f.close()"
   ]
  }
 ],
 "metadata": {
  "kernelspec": {
   "display_name": "Python 3",
   "language": "python",
   "name": "python3"
  },
  "language_info": {
   "codemirror_mode": {
    "name": "ipython",
    "version": 3
   },
   "file_extension": ".py",
   "mimetype": "text/x-python",
   "name": "python",
   "nbconvert_exporter": "python",
   "pygments_lexer": "ipython3",
   "version": "3.8.5"
  }
 },
 "nbformat": 4,
 "nbformat_minor": 5
}
